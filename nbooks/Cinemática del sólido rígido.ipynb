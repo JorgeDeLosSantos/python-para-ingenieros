{
 "cells": [
  {
   "cell_type": "code",
   "execution_count": 4,
   "metadata": {},
   "outputs": [],
   "source": [
    "from sympy import *\n",
    "from sympy.matrices import *\n",
    "import matplotlib.pyplot as plt\n",
    "import numpy as np\n",
    "%matplotlib inline\n",
    "init_printing(use_latex=True)"
   ]
  },
  {
   "cell_type": "markdown",
   "metadata": {},
   "source": [
    "<hr style=\"border-top: 3px solid #0000dd;\">\n",
    "\n",
    "<font style=\"font-weight: bold; font-size: 14px; color: #6666FF\">\n",
    "Si el rodillo $A$ se mueve a la derecha a una velocidad constante $v_A = 3$ m/s, determine la velocidad angular del eslabón y la velocidad del rodillo $B$ cuando $\\theta = 30°$.\n",
    "</font>\n",
    "\n",
    "<img src=\"img/hibb-f16-7.PNG\" width=\"250px\">"
   ]
  },
  {
   "cell_type": "code",
   "execution_count": 8,
   "metadata": {},
   "outputs": [
    {
     "data": {
      "image/png": "[encoded data removed]",
      "text/latex": [
       "$$\\left \\{ \\omega_{AB} : 4.0, \\quad v_{B} : -5.19615242270663\\right \\}$$"
      ],
      "text/plain": [
       "{\\omega_{AB}: 4.0, v_B: -5.19615242270663}"
      ]
     },
     "execution_count": 8,
     "metadata": {},
     "output_type": "execute_result"
    }
   ],
   "source": [
    "wAB = symbols(\"\\\\omega_{AB}\")\n",
    "vB = symbols(\"v_B\") \n",
    "VA = Matrix([3, 0, 0])\n",
    "VB = Matrix([0, vB, 0])\n",
    "WAB = Matrix([0,0,wAB])\n",
    "theta = 30*pi/180\n",
    "RBA = Matrix([-1.5*cos(theta), 1.5*sin(theta), 0])\n",
    "solve( Eq(VB, VA + WAB.cross(RBA) ) )"
   ]
  },
  {
   "cell_type": "markdown",
   "metadata": {},
   "source": [
    "<hr style=\"border-top: 3px solid #0000dd;\">\n",
    "\n",
    "<font style=\"font-weight: bold; font-size: 14px; color: #6666FF\">\n",
    "Si la palanca $OA$ gira con una velocidad angular de $\\omega = 12$ rad/s, determine la velocidad del pistón $B$ y la velocidad angular de la barra $AB$ en el instante que se muestra.\n",
    "</font>\n",
    "\n",
    "<img src=\"img/hibb-f16-10.PNG\" width=\"280px\">"
   ]
  },
  {
   "cell_type": "code",
   "execution_count": 15,
   "metadata": {},
   "outputs": [
    {
     "data": {
      "image/png": "[encoded data removed]",
      "text/latex": [
       "$$\\left \\{ \\omega_{AB} : 12.0, \\quad v_{B} : 6.23538290724796\\right \\}$$"
      ],
      "text/plain": [
       "{\\omega_{AB}: 12.0, v_B: 6.23538290724796}"
      ]
     },
     "execution_count": 15,
     "metadata": {},
     "output_type": "execute_result"
    }
   ],
   "source": [
    "wAB = symbols(\"\\\\omega_{AB}\")\n",
    "vB = symbols(\"v_B\")\n",
    "RA = Matrix([0, 0.3, 0])\n",
    "WA = Matrix([0, 0, 12])\n",
    "VA = WA.cross(RA)\n",
    "WAB = Matrix([0,0,wAB])\n",
    "theta = 30*pi/180\n",
    "RBA = Matrix([0.6*cos(theta), -0.6*sin(theta), 0])\n",
    "VB = Matrix([0,vB,0])\n",
    "solve( Eq(VB, VA + WAB.cross(RBA) ) )"
   ]
  },
  {
   "cell_type": "markdown",
   "metadata": {},
   "source": [
    "<hr style=\"border-top: 3px solid #0000dd;\">\n",
    "\n",
    "<font style=\"font-weight: bold; font-size: 14px; color: #6666FF\">\n",
    "Determine la velocidad angular de los eslabones $BC$ y $CD$ en el instante que se muestra.\n",
    "</font>\n",
    "\n",
    "<img src=\"img/hibb-f16-18.PNG\" width=\"300px\">\n",
    "\n",
    "$$ \\mathbf{v}_C = \\mathbf{v}_B + \\mathbf{v}_{C/B} $$"
   ]
  },
  {
   "cell_type": "code",
   "execution_count": 36,
   "metadata": {},
   "outputs": [
    {
     "data": {
      "image/png": "[encoded data removed]",
      "text/latex": [
       "$$\\left \\{ \\omega_{BC} : 4.33012701892219, \\quad \\omega_{CD} : 5.0\\right \\}$$"
      ],
      "text/plain": [
       "{\\omega_{BC}: 4.33012701892219, \\omega_{CD}: 5.0}"
      ]
     },
     "execution_count": 36,
     "metadata": {},
     "output_type": "execute_result"
    }
   ],
   "source": [
    "wBC = symbols(\"\\\\omega_{BC}\")\n",
    "wCD = symbols(\"\\\\omega_{CD}\")\n",
    "th = 30*pi/180\n",
    "RB = Matrix([0.2*cos(th), 0.2*sin(th), 0])\n",
    "RCB = Matrix([0.4, 0, 0])\n",
    "RCD = Matrix([0,-0.2,0])\n",
    "WAB = Matrix([0, 0, -10])\n",
    "WCD = Matrix([0,0,wCD])\n",
    "WBC = Matrix([0,0,wBC])\n",
    "VB = WAB.cross(RB)\n",
    "VC = WCD.cross(RCD)\n",
    "sol = solve( Eq( VC, VB + WBC.cross(RCB) ) )\n",
    "sol"
   ]
  },
  {
   "cell_type": "code",
   "execution_count": 37,
   "metadata": {},
   "outputs": [],
   "source": [
    "# ( VB + WBC.cross(RCB) ).subs(sol).evalf()"
   ]
  },
  {
   "cell_type": "code",
   "execution_count": null,
   "metadata": {},
   "outputs": [],
   "source": []
  }
 ],
 "metadata": {
  "kernelspec": {
   "display_name": "Python 3",
   "language": "python",
   "name": "python3"
  },
  "language_info": {
   "codemirror_mode": {
    "name": "ipython",
    "version": 3
   },
   "file_extension": ".py",
   "mimetype": "text/x-python",
   "name": "python",
   "nbconvert_exporter": "python",
   "pygments_lexer": "ipython3",
   "version": "3.6.5"
  }
 },
 "nbformat": 4,
 "nbformat_minor": 2
}
