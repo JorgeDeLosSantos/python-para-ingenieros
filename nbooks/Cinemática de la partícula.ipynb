{
 "cells": [
  {
   "cell_type": "markdown",
   "metadata": {},
   "source": [
    "# Cinemática de la partícula\n",
    "\n",
    "La cinemática es la ciencia que estudia el movimiento sin tomar en cuenta aquello que lo causa, más aún, cinemática de la partícula refiere al estudio del movimiento de objetos cuya dimensión y forma geométrica es irrelevante. \n",
    "\n",
    "## Movimiento rectilíneo\n",
    "\n",
    "Se dice que una partícula está en movimiento rectilíneo si su trayectoria describe una línea recta. Es el caso más simple de análisis cinemático. Para medir las cantidades cinemáticas de una partícula (o cualquier sistema) se hace necesario la introducción de un sistema de referencia, en el caso del movimiento rectilíneo basta con una recta numérica, con un origen y positivos y negativos hacia alguno de sus extremos.\n",
    "\n",
    "La posición de una partícula se denota habitualmente con la letra $s$ y representa en dónde se ubica la partícula respecto al origen del sistema de referencia utilizado.\n",
    "\n",
    "La velocidad de una partícula se define como la tasa de variación de la posición con respecto al tiempo, es decir:\n",
    "\n",
    "\\begin{equation}\n",
    "v = \\frac{ds}{dt}\n",
    "\\end{equation}\n",
    "\n",
    "La aceleración de una partícula se define como la tasa de variación de la velocidad con respecto al tiempo:\n",
    "\n",
    "\\begin{equation}\n",
    "a = \\frac{dv}{dt}\n",
    "\\end{equation}\n",
    "\n",
    "Si se combinan las ecuaciones anteriores, se obtiene una expresión adicional para la aceleración:\n",
    "\n",
    "\\begin{equation}\n",
    "a = v \\frac{dv}{ds}\n",
    "\\end{equation}"
   ]
  },
  {
   "cell_type": "code",
   "execution_count": null,
   "metadata": {},
   "outputs": [],
   "source": []
  },
  {
   "cell_type": "code",
   "execution_count": 5,
   "metadata": {},
   "outputs": [],
   "source": [
    "from sympy import *\n",
    "import matplotlib.pyplot as plt\n",
    "import numpy as np\n",
    "%matplotlib inline\n",
    "init_printing(use_latex=True)"
   ]
  },
  {
   "cell_type": "markdown",
   "metadata": {},
   "source": [
    "<hr style=\"border-top: 3px solid #0000dd;\">\n",
    "<font style=\"font-weight: bold; font-size: 14px; color: #6666FF\">\n",
    "Una partícula se desplaza a lo largo de una línea recta con la aceleración $a=(12t-3t^{1/2})$ pies/$s^2$, donde $t$ está en segundos. Determine su velocidad y posición como una función del tiempo. Cuando $t=0$, $v=0$ y $s=15$ pies.\n",
    "</font>"
   ]
  },
  {
   "cell_type": "code",
   "execution_count": 6,
   "metadata": {},
   "outputs": [],
   "source": [
    "t = symbols(\"t\")\n",
    "v = symbols(\"v\")\n",
    "s = symbols(\"s\")\n",
    "a = (12*t - 3*t**(1/2))"
   ]
  },
  {
   "cell_type": "markdown",
   "metadata": {},
   "source": [
    "Calculando la velocidad:\n",
    "\n",
    "$$ a = \\frac{dv}{dt} $$\n",
    "\n",
    "$$ \\int_0^v dv = \\int_0^t a\\, dt$$"
   ]
  },
  {
   "cell_type": "code",
   "execution_count": 7,
   "metadata": {},
   "outputs": [
    {
     "data": {
      "image/png": "[encoded data removed]",
      "text/latex": [
       "$$v = 6 t^{2} - 2.0 t^{1.5}$$"
      ],
      "text/plain": [
       "       2        1.5\n",
       "v = 6⋅t  - 2.0⋅t   "
      ]
     },
     "execution_count": 7,
     "metadata": {},
     "output_type": "execute_result"
    }
   ],
   "source": [
    "ecv = Eq(integrate(1, (v,0,v)), integrate(a, (t,0,t)))\n",
    "ecv"
   ]
  },
  {
   "cell_type": "markdown",
   "metadata": {},
   "source": [
    "Para la posición:\n",
    "\n",
    "$$ v = \\frac{ds}{dt} $$\n",
    "\n",
    "$$ \\int_{15}^s ds = \\int_0^t v \\, dt  $$"
   ]
  },
  {
   "cell_type": "code",
   "execution_count": 8,
   "metadata": {},
   "outputs": [
    {
     "data": {
      "image/png": "[encoded data removed]",
      "text/latex": [
       "$$s = 2 t^{3} - 0.8 t^{2.5}$$"
      ],
      "text/plain": [
       "       3        2.5\n",
       "s = 2⋅t  - 0.8⋅t   "
      ]
     },
     "execution_count": 8,
     "metadata": {},
     "output_type": "execute_result"
    }
   ],
   "source": [
    "ecp = Eq(integrate(1, (s,0,s)), integrate(ecv.rhs, (t,0,t)))\n",
    "ecp"
   ]
  },
  {
   "cell_type": "markdown",
   "metadata": {},
   "source": [
    "<hr style=\"border-top: 3px solid #0000dd;\">\n",
    "\n",
    "<font style=\"font-weight: bold; font-size: 14px; color: #6666FF\">\n",
    "La aceleración de una partícula que viaja a lo largo de una línea recta es $a=k/v$ donde $k$ es una constante. Si $s=0$, $v=v_0$ cuando $t=0$, determine su velocidad como función del tiempo.\n",
    "</font>"
   ]
  },
  {
   "cell_type": "code",
   "execution_count": 9,
   "metadata": {},
   "outputs": [],
   "source": [
    "t = symbols(\"t\")\n",
    "v = symbols(\"v\")\n",
    "k = symbols(\"k\")\n",
    "v0 = symbols(\"v_0\")\n",
    "a = k/v"
   ]
  },
  {
   "cell_type": "markdown",
   "metadata": {},
   "source": [
    "Para la velocidad se tiene:\n",
    "\n",
    "$$ a = \\frac{dv}{dt} $$\n",
    "\n",
    "$$ \\int_0^t dt = \\int_{v_0}^v \\frac{dv}{a} $$"
   ]
  },
  {
   "cell_type": "code",
   "execution_count": 10,
   "metadata": {},
   "outputs": [
    {
     "data": {
      "image/png": "[encoded data removed]",
      "text/latex": [
       "$$t = \\frac{v^{2}}{2 k} - \\frac{v_{0}^{2}}{2 k}$$"
      ],
      "text/plain": [
       "      2     2\n",
       "     v    v₀ \n",
       "t = ─── - ───\n",
       "    2⋅k   2⋅k"
      ]
     },
     "execution_count": 10,
     "metadata": {},
     "output_type": "execute_result"
    }
   ],
   "source": [
    "ecv = Eq(integrate(1, (t,0,t)), integrate(1/a, (v,v0,v)))\n",
    "ecv"
   ]
  },
  {
   "cell_type": "code",
   "execution_count": 11,
   "metadata": {},
   "outputs": [
    {
     "data": {
      "image/png": "[encoded data removed]",
      "text/latex": [
       "$$\\left [ - \\sqrt{2 k t + v_{0}^{2}}, \\quad \\sqrt{2 k t + v_{0}^{2}}\\right ]$$"
      ],
      "text/plain": [
       "⎡    _____________     _____________⎤\n",
       "⎢   ╱           2     ╱           2 ⎥\n",
       "⎣-╲╱  2⋅k⋅t + v₀  , ╲╱  2⋅k⋅t + v₀  ⎦"
      ]
     },
     "execution_count": 11,
     "metadata": {},
     "output_type": "execute_result"
    }
   ],
   "source": [
    "solve(ecv, v)"
   ]
  },
  {
   "cell_type": "markdown",
   "metadata": {},
   "source": [
    "Por tanto la función de velocidad con respecto al tiempo estará dada por:\n",
    "\n",
    "$$ v(t) = \\pm \\sqrt{2 k t + v_{0}^{2}} $$"
   ]
  },
  {
   "cell_type": "markdown",
   "metadata": {},
   "source": [
    "## Movimiento curvilíneo\n",
    "\n",
    "<hr style=\"border-top: 3px solid #0000dd;\">\n",
    "\n",
    "<!-- Hibbeler 12-71 -->\n",
    "\n",
    "<font style=\"font-weight: bold; font-size: 14px; color: #6666FF\">\n",
    "La posición de una partícula es $\\vec{r} = \\left\\{ (3t^3 -2t) \\mathbf{i} - (4t^{1/2} + t) \\mathbf{j} + (3t^2 - 2)\\mathbf{k} \\right\\} $ m, donde $t$ está en segundos, determine la magnitud de la velocidad y aceleración de la partícula cuando $t = 2$s.\n",
    "</font>"
   ]
  },
  {
   "cell_type": "code",
   "execution_count": 19,
   "metadata": {},
   "outputs": [],
   "source": [
    "from sympy.matrices import *\n",
    "t = symbols(\"t\")\n",
    "r = Matrix([3*t**3 - 2*t, -(4*t**(1/2) +t), 3*t**2 - 2])\n",
    "v = r.diff(t)\n",
    "a = v.diff(t)"
   ]
  },
  {
   "cell_type": "code",
   "execution_count": 13,
   "metadata": {},
   "outputs": [
    {
     "data": {
      "image/png": "[encoded data removed]",
      "text/latex": [
       "$$36.1362481052578$$"
      ],
      "text/plain": [
       "36.1362481052578"
      ]
     },
     "execution_count": 13,
     "metadata": {},
     "output_type": "execute_result"
    }
   ],
   "source": [
    "v.norm().subs(t,2)"
   ]
  },
  {
   "cell_type": "code",
   "execution_count": 14,
   "metadata": {},
   "outputs": [
    {
     "data": {
      "image/png": "[encoded data removed]",
      "text/latex": [
       "$$36.4982876310657$$"
      ],
      "text/plain": [
       "36.4982876310657"
      ]
     },
     "execution_count": 14,
     "metadata": {},
     "output_type": "execute_result"
    }
   ],
   "source": [
    "a.norm().subs(t,2)"
   ]
  },
  {
   "cell_type": "markdown",
   "metadata": {},
   "source": [
    "<hr style=\"border-top: 3px solid #0000dd;\">\n",
    "\n",
    "<!-- Hibbeler F12-22 -->\n",
    "\n",
    "<font style=\"font-weight: bold; font-size: 14px; color: #6666FF\">\n",
    "La pelota es pateada desde el punto $A$ con la velocidad inicial $v_A = 10$ m/s. Determine la distancia $R$ y la rapidez con que la pelota golpea el suelo.\n",
    "</font>\n",
    "\n",
    "<img src=\"img/hibb-f12-22.PNG\">"
   ]
  },
  {
   "cell_type": "markdown",
   "metadata": {},
   "source": [
    "$$ x = x_0 + (v_0)_x t$$\n",
    "$$ y = y_0 + (v_0)_y t - \\frac{1}{2}gt^2 $$"
   ]
  },
  {
   "cell_type": "code",
   "execution_count": 15,
   "metadata": {},
   "outputs": [],
   "source": [
    "t = symbols(\"t\")\n",
    "R = symbols(\"R\")\n",
    "g = 9.81\n",
    "x0 = y0 = 0\n",
    "v0 = 10\n",
    "alpha = 30*pi/180\n",
    "v0x = 10*cos(alpha)\n",
    "v0y = 10*sin(alpha)\n",
    "x = x0 + v0x*t\n",
    "y = y0 + v0y*t - 0.5*g*t**2"
   ]
  },
  {
   "cell_type": "code",
   "execution_count": 16,
   "metadata": {},
   "outputs": [
    {
     "data": {
      "image/png": "[encoded data removed]",
      "text/latex": [
       "$$\\left [ \\left \\{ R : 0.0, \\quad t : 0.0\\right \\}, \\quad \\left \\{ R : 8.82798576742547, \\quad t : 1.01936799184506\\right \\}\\right ]$$"
      ],
      "text/plain": [
       "[{R: 0.0, t: 0.0}, {R: 8.82798576742547, t: 1.01936799184506}]"
      ]
     },
     "execution_count": 16,
     "metadata": {},
     "output_type": "execute_result"
    }
   ],
   "source": [
    "sol = solve([x - R, y])\n",
    "sol"
   ]
  },
  {
   "cell_type": "markdown",
   "metadata": {},
   "source": [
    "Como se observa hay dos conjuntos de soluciones que satisfacen lo descrito por las ecuaciones, claro está que una de ellas es la solución trivial, es decir, cuando la partícula se encuentra el origen de coordenadas, justamente antes de comenzar su movimiento. Para acceder al resultado del tiempo se tiene:"
   ]
  },
  {
   "cell_type": "code",
   "execution_count": 17,
   "metadata": {},
   "outputs": [],
   "source": [
    "tf = sol[1][t]"
   ]
  },
  {
   "cell_type": "code",
   "execution_count": 18,
   "metadata": {},
   "outputs": [
    {
     "data": {
      "image/png": "[encoded data removed]",
      "text/latex": [
       "$$10.0$$"
      ],
      "text/plain": [
       "10.0000000000000"
      ]
     },
     "execution_count": 18,
     "metadata": {},
     "output_type": "execute_result"
    }
   ],
   "source": [
    "vf = Matrix([ v0x, v0y - g*tf ])\n",
    "vf.norm()"
   ]
  },
  {
   "cell_type": "markdown",
   "metadata": {},
   "source": [
    "<hr style=\"border-top: 3px solid #0000dd;\">\n"
   ]
  },
  {
   "cell_type": "code",
   "execution_count": null,
   "metadata": {},
   "outputs": [],
   "source": []
  },
  {
   "cell_type": "code",
   "execution_count": null,
   "metadata": {},
   "outputs": [],
   "source": []
  }
 ],
 "metadata": {
  "kernelspec": {
   "display_name": "Python 3",
   "language": "python",
   "name": "python3"
  },
  "language_info": {
   "codemirror_mode": {
    "name": "ipython",
    "version": 3
   },
   "file_extension": ".py",
   "mimetype": "text/x-python",
   "name": "python",
   "nbconvert_exporter": "python",
   "pygments_lexer": "ipython3",
   "version": "3.6.5"
  }
 },
 "nbformat": 4,
 "nbformat_minor": 2
}
